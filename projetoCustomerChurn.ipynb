{
 "cells": [
  {
   "attachments": {},
   "cell_type": "markdown",
   "metadata": {},
   "source": [
    "# Formação Cientista de Dados - Data Science Academy\n",
    "### Prevendo Customer Churn em Operadoras de Telecom\n",
    "Projeto com Feedback 4"
   ]
  },
  {
   "cell_type": "code",
   "execution_count": null,
   "metadata": {},
   "outputs": [],
   "source": [
    "import re\n",
    "import pandas as pd\n",
    "import numpy as np\n",
    "import seaborn as sns\n",
    "import statsmodels.api as sm\n",
    "import matplotlib.pyplot as plt\n",
    "from imblearn.over_sampling import SMOTE\n",
    "from sklearn.preprocessing import LabelEncoder\n",
    "from sklearn.preprocessing import MinMaxScaler\n",
    "from sklearn.preprocessing import StandardScaler\n",
    "from sklearn.feature_selection import SelectKBest\n",
    "from sklearn.feature_selection import RFE\n",
    "from sklearn.linear_model import LogisticRegression\n",
    "from sklearn.feature_selection import chi2\n",
    "from sklearn.metrics import accuracy_score\n",
    "from sklearn.model_selection import train_test_split, cross_val_score\n",
    "from sklearn.metrics import classification_report, confusion_matrix, roc_auc_score, f1_score, recall_score\n",
    "from sklearn.ensemble import RandomForestClassifier\n",
    "from statsmodels.stats.outliers_influence import variance_inflation_factor"
   ]
  },
  {
   "attachments": {},
   "cell_type": "markdown",
   "metadata": {},
   "source": [
    "### Funções Utilitarias"
   ]
  },
  {
   "cell_type": "code",
   "execution_count": null,
   "metadata": {},
   "outputs": [],
   "source": [
    "# Carregar dados\n",
    "def carrega_dados(nome_arquivo):\n",
    "    return pd.read_csv(nome_arquivo)"
   ]
  },
  {
   "cell_type": "code",
   "execution_count": null,
   "metadata": {},
   "outputs": [],
   "source": [
    "# Gerar gráficos de balanceamento de classes\n",
    "def plot_balanceamento_classes(classe, titulo):\n",
    "    classes, counts = np.unique(classe, return_counts=True)\n",
    "    plt.bar(classes, counts)\n",
    "    plt.xticks(classes)\n",
    "    plt.xlabel('Classes')\n",
    "    plt.ylabel('Número de amostras')\n",
    "    plt.title(titulo)\n",
    "    \n",
    "    for i in range(len(classes)):\n",
    "        plt.text(x = classes[i] - 0.05, y = counts[i] + 1, s = counts[i])\n",
    "    \n",
    "    plt.show()"
   ]
  },
  {
   "cell_type": "code",
   "execution_count": null,
   "metadata": {},
   "outputs": [],
   "source": [
    "# Aplicar de label-encoding\n",
    "def aplica_label_encoding(df, lista_colunas):\n",
    "    le = LabelEncoder()\n",
    "    for coluna in lista_colunas:\n",
    "        df[coluna] = le.fit_transform(df[coluna])\n",
    "    return df"
   ]
  },
  {
   "cell_type": "code",
   "execution_count": null,
   "metadata": {},
   "outputs": [],
   "source": [
    "# Selecionando melhores variaveis para o modelo\n",
    "def selecionar_melhores_variaveis(x, y, quatidade_variaveis):\n",
    "    logreg = LogisticRegression(max_iter=1200)\n",
    "    rfe = RFE(estimator=logreg, n_features_to_select=quatidade_variaveis)\n",
    "    rfe.fit(x, y)\n",
    "    return x.columns[rfe.support_]"
   ]
  },
  {
   "cell_type": "code",
   "execution_count": null,
   "metadata": {},
   "outputs": [],
   "source": [
    "# Validando se possui/não possui informações\n",
    "def validar_valores(valor):\n",
    "    if valor > 0:\n",
    "        return 1\n",
    "    else:\n",
    "        return 0"
   ]
  },
  {
   "cell_type": "code",
   "execution_count": null,
   "metadata": {},
   "outputs": [],
   "source": [
    "# Aplicando o SMOTE para balancear as classes\n",
    "def aplicar_balanceamento_classes(variavel_alvo, variaveis_preditoras):\n",
    "    smote = SMOTE(random_state=42)\n",
    "    return smote.fit_resample(variavel_alvo, variaveis_preditoras)"
   ]
  },
  {
   "attachments": {},
   "cell_type": "markdown",
   "metadata": {},
   "source": [
    "### Análise exploratória de dados"
   ]
  },
  {
   "cell_type": "code",
   "execution_count": null,
   "metadata": {},
   "outputs": [],
   "source": [
    "# Carregando dados de Treino\n",
    "df_treino = carrega_dados(\"datasets/train.csv\")\n",
    "\n",
    "print('dimensões:', df_treino.shape)\n",
    "print('colunas:', df_treino.columns)"
   ]
  },
  {
   "cell_type": "code",
   "execution_count": null,
   "metadata": {},
   "outputs": [],
   "source": [
    "# Analisando dataframe\n",
    "df_treino.head(5)"
   ]
  },
  {
   "cell_type": "code",
   "execution_count": null,
   "metadata": {},
   "outputs": [],
   "source": [
    "# Selecionando coluna de indice\n",
    "colunas_deletar = ['Unnamed: 0']\n",
    "\n",
    "# Selecionando colunas com valores semelhantes\n",
    "#colunas_deletar = colunas_deletar + ['area_code']\n",
    "print('colunas que serão removidas:', colunas_deletar)"
   ]
  },
  {
   "cell_type": "code",
   "execution_count": null,
   "metadata": {},
   "outputs": [],
   "source": [
    "# Analisando dados que serão excluidos\n",
    "df_colunas_deletar = df_treino[colunas_deletar]\n",
    "df_colunas_deletar.head(10)"
   ]
  },
  {
   "cell_type": "code",
   "execution_count": null,
   "metadata": {},
   "outputs": [],
   "source": [
    "# Removendo colunas\n",
    "df_modificado = df_treino.drop(colunas_deletar, axis=1)"
   ]
  },
  {
   "cell_type": "code",
   "execution_count": null,
   "metadata": {},
   "outputs": [],
   "source": [
    "# Analisando dataframe após remover as colunas\n",
    "print('dimensões:', df_modificado.shape)\n",
    "print('tipos das variáveis:\\n', df_modificado.dtypes)\n",
    "\n",
    "df_modificado.head(5)"
   ]
  },
  {
   "cell_type": "code",
   "execution_count": null,
   "metadata": {},
   "outputs": [],
   "source": [
    "# Definir as categorias que serão usadas no gráfico\n",
    "categories = ['Não Churn', 'Churn']\n",
    "\n",
    "# Calcular a média de chamadas de serviço ao cliente para cada valor de churn\n",
    "churn_calls = df_modificado.groupby('churn')['number_customer_service_calls'].mean()\n",
    "\n",
    "# Criar um gráfico de barras para mostrar as médias de chamadas de serviço ao cliente para cada valor de churn\n",
    "plt.bar(categories, churn_calls.values)\n",
    "plt.title('Média de chamadas de serviço ao cliente por churn')\n",
    "plt.xlabel('Churn')\n",
    "plt.ylabel('Média de chamadas de serviço ao cliente')\n",
    "\n",
    "# Adicionar os valores das barras no gráfico\n",
    "for i, value in enumerate(churn_calls.values):\n",
    "    plt.text(i, value, str(round(value, 2)), ha='center')\n",
    "\n",
    "plt.show()"
   ]
  },
  {
   "cell_type": "code",
   "execution_count": null,
   "metadata": {},
   "outputs": [],
   "source": [
    "churn_by_area = df_modificado.groupby('area_code')['churn'].value_counts()\n",
    "print(churn_by_area)"
   ]
  },
  {
   "cell_type": "code",
   "execution_count": null,
   "metadata": {},
   "outputs": [],
   "source": [
    "max_count = churn_by_area.max()\n",
    "max_area_codes = churn_by_area[churn_by_area == max_count].index.get_level_values(0)\n",
    "print(\"Área(s) com o maior número de churns:\", max_area_codes)"
   ]
  },
  {
   "cell_type": "code",
   "execution_count": null,
   "metadata": {},
   "outputs": [],
   "source": [
    "# Criar uma tabela pivô com a contagem de \"yes\" e \"no\" por \"area_code\"\n",
    "df_pivot = df_modificado.pivot_table(index='area_code', columns='churn', values='state', aggfunc='count')\n",
    "\n",
    "# Transformar a tabela pivô em um DataFrame com as colunas \"area_code\", \"churn\" e \"count\"\n",
    "df_new = pd.DataFrame(df_pivot.to_records())\n",
    "df_new = df_new.rename(columns={'area_code': 'Area Code', 'no': 'No', 'yes': 'Yes'})\n",
    "\n",
    "# Plotar um gráfico de barras com as colunas \"yes\" e \"no\" lado a lado\n",
    "ax = df_new.plot(x='Area Code', kind='bar', rot=0)\n",
    "\n",
    "# Adicionar rótulos de valores às barras\n",
    "for c in ax.containers:\n",
    "    for r in c:\n",
    "        h = r.get_height()\n",
    "        ax.annotate(f'{h:.0f}', xy=(r.get_x() + r.get_width() / 2, h), \n",
    "                    xytext=(0, 3), textcoords=\"offset points\", ha='center', va='bottom')\n",
    "\n",
    "# Adicionar rótulos de rótulos à base das barras\n",
    "ax.set_xlabel('Area Code')\n",
    "ax.set_ylabel('Count')\n",
    "ax.set_title('Churn Count by Area Code')\n",
    "\n",
    "# Mostrar o gráfico\n",
    "plt.show()"
   ]
  },
  {
   "cell_type": "code",
   "execution_count": 70,
   "metadata": {},
   "outputs": [
    {
     "name": "stdout",
     "output_type": "stream",
     "text": [
      "dimenssões: (122, 20)\n"
     ]
    },
    {
     "data": {
      "text/html": [
       "<div>\n",
       "<style scoped>\n",
       "    .dataframe tbody tr th:only-of-type {\n",
       "        vertical-align: middle;\n",
       "    }\n",
       "\n",
       "    .dataframe tbody tr th {\n",
       "        vertical-align: top;\n",
       "    }\n",
       "\n",
       "    .dataframe thead th {\n",
       "        text-align: right;\n",
       "    }\n",
       "</style>\n",
       "<table border=\"1\" class=\"dataframe\">\n",
       "  <thead>\n",
       "    <tr style=\"text-align: right;\">\n",
       "      <th></th>\n",
       "      <th>state</th>\n",
       "      <th>account_length</th>\n",
       "      <th>area_code</th>\n",
       "      <th>international_plan</th>\n",
       "      <th>voice_mail_plan</th>\n",
       "      <th>number_vmail_messages</th>\n",
       "      <th>total_day_minutes</th>\n",
       "      <th>total_day_calls</th>\n",
       "      <th>total_day_charge</th>\n",
       "      <th>total_eve_minutes</th>\n",
       "      <th>total_eve_calls</th>\n",
       "      <th>total_eve_charge</th>\n",
       "      <th>total_night_minutes</th>\n",
       "      <th>total_night_calls</th>\n",
       "      <th>total_night_charge</th>\n",
       "      <th>total_intl_minutes</th>\n",
       "      <th>total_intl_calls</th>\n",
       "      <th>total_intl_charge</th>\n",
       "      <th>number_customer_service_calls</th>\n",
       "      <th>churn</th>\n",
       "    </tr>\n",
       "  </thead>\n",
       "  <tbody>\n",
       "    <tr>\n",
       "      <th>21</th>\n",
       "      <td>CO</td>\n",
       "      <td>77</td>\n",
       "      <td>area_code_408</td>\n",
       "      <td>no</td>\n",
       "      <td>no</td>\n",
       "      <td>0</td>\n",
       "      <td>62.4</td>\n",
       "      <td>89</td>\n",
       "      <td>10.61</td>\n",
       "      <td>169.9</td>\n",
       "      <td>121</td>\n",
       "      <td>14.44</td>\n",
       "      <td>209.6</td>\n",
       "      <td>64</td>\n",
       "      <td>9.43</td>\n",
       "      <td>5.7</td>\n",
       "      <td>6</td>\n",
       "      <td>1.54</td>\n",
       "      <td>5</td>\n",
       "      <td>yes</td>\n",
       "    </tr>\n",
       "    <tr>\n",
       "      <th>33</th>\n",
       "      <td>AZ</td>\n",
       "      <td>12</td>\n",
       "      <td>area_code_408</td>\n",
       "      <td>no</td>\n",
       "      <td>no</td>\n",
       "      <td>0</td>\n",
       "      <td>249.6</td>\n",
       "      <td>118</td>\n",
       "      <td>42.43</td>\n",
       "      <td>252.4</td>\n",
       "      <td>119</td>\n",
       "      <td>21.45</td>\n",
       "      <td>280.2</td>\n",
       "      <td>90</td>\n",
       "      <td>12.61</td>\n",
       "      <td>11.8</td>\n",
       "      <td>3</td>\n",
       "      <td>3.19</td>\n",
       "      <td>1</td>\n",
       "      <td>yes</td>\n",
       "    </tr>\n",
       "    <tr>\n",
       "      <th>41</th>\n",
       "      <td>MD</td>\n",
       "      <td>135</td>\n",
       "      <td>area_code_408</td>\n",
       "      <td>yes</td>\n",
       "      <td>yes</td>\n",
       "      <td>41</td>\n",
       "      <td>173.1</td>\n",
       "      <td>85</td>\n",
       "      <td>29.43</td>\n",
       "      <td>203.9</td>\n",
       "      <td>107</td>\n",
       "      <td>17.33</td>\n",
       "      <td>122.2</td>\n",
       "      <td>78</td>\n",
       "      <td>5.50</td>\n",
       "      <td>14.6</td>\n",
       "      <td>15</td>\n",
       "      <td>3.94</td>\n",
       "      <td>0</td>\n",
       "      <td>yes</td>\n",
       "    </tr>\n",
       "    <tr>\n",
       "      <th>57</th>\n",
       "      <td>CO</td>\n",
       "      <td>121</td>\n",
       "      <td>area_code_408</td>\n",
       "      <td>no</td>\n",
       "      <td>yes</td>\n",
       "      <td>30</td>\n",
       "      <td>198.4</td>\n",
       "      <td>129</td>\n",
       "      <td>33.73</td>\n",
       "      <td>75.3</td>\n",
       "      <td>77</td>\n",
       "      <td>6.40</td>\n",
       "      <td>181.2</td>\n",
       "      <td>77</td>\n",
       "      <td>8.15</td>\n",
       "      <td>5.8</td>\n",
       "      <td>3</td>\n",
       "      <td>1.57</td>\n",
       "      <td>3</td>\n",
       "      <td>yes</td>\n",
       "    </tr>\n",
       "    <tr>\n",
       "      <th>77</th>\n",
       "      <td>NY</td>\n",
       "      <td>144</td>\n",
       "      <td>area_code_408</td>\n",
       "      <td>no</td>\n",
       "      <td>no</td>\n",
       "      <td>0</td>\n",
       "      <td>61.6</td>\n",
       "      <td>117</td>\n",
       "      <td>10.47</td>\n",
       "      <td>77.1</td>\n",
       "      <td>85</td>\n",
       "      <td>6.55</td>\n",
       "      <td>173.0</td>\n",
       "      <td>99</td>\n",
       "      <td>7.79</td>\n",
       "      <td>8.2</td>\n",
       "      <td>7</td>\n",
       "      <td>2.21</td>\n",
       "      <td>4</td>\n",
       "      <td>yes</td>\n",
       "    </tr>\n",
       "  </tbody>\n",
       "</table>\n",
       "</div>"
      ],
      "text/plain": [
       "   state  account_length      area_code international_plan voice_mail_plan  \\\n",
       "21    CO              77  area_code_408                 no              no   \n",
       "33    AZ              12  area_code_408                 no              no   \n",
       "41    MD             135  area_code_408                yes             yes   \n",
       "57    CO             121  area_code_408                 no             yes   \n",
       "77    NY             144  area_code_408                 no              no   \n",
       "\n",
       "    number_vmail_messages  total_day_minutes  total_day_calls  \\\n",
       "21                      0               62.4               89   \n",
       "33                      0              249.6              118   \n",
       "41                     41              173.1               85   \n",
       "57                     30              198.4              129   \n",
       "77                      0               61.6              117   \n",
       "\n",
       "    total_day_charge  total_eve_minutes  total_eve_calls  total_eve_charge  \\\n",
       "21             10.61              169.9              121             14.44   \n",
       "33             42.43              252.4              119             21.45   \n",
       "41             29.43              203.9              107             17.33   \n",
       "57             33.73               75.3               77              6.40   \n",
       "77             10.47               77.1               85              6.55   \n",
       "\n",
       "    total_night_minutes  total_night_calls  total_night_charge  \\\n",
       "21                209.6                 64                9.43   \n",
       "33                280.2                 90               12.61   \n",
       "41                122.2                 78                5.50   \n",
       "57                181.2                 77                8.15   \n",
       "77                173.0                 99                7.79   \n",
       "\n",
       "    total_intl_minutes  total_intl_calls  total_intl_charge  \\\n",
       "21                 5.7                 6               1.54   \n",
       "33                11.8                 3               3.19   \n",
       "41                14.6                15               3.94   \n",
       "57                 5.8                 3               1.57   \n",
       "77                 8.2                 7               2.21   \n",
       "\n",
       "    number_customer_service_calls churn  \n",
       "21                              5   yes  \n",
       "33                              1   yes  \n",
       "41                              0   yes  \n",
       "57                              3   yes  \n",
       "77                              4   yes  "
      ]
     },
     "execution_count": 70,
     "metadata": {},
     "output_type": "execute_result"
    }
   ],
   "source": [
    "# Analisando área com maio número de cancelamentos\n",
    "churn_by_area = df_modificado.groupby('area_code')['churn'].value_counts()\n",
    "max_count = churn_by_area.max()\n",
    "max_area_codes = churn_by_area[churn_by_area == max_count].index.get_level_values(0)\n",
    "max_area_codes\n",
    "\n",
    "df_maior_valor_churn = df_modificado.loc[(df_modificado['area_code'] == 'area_code_408') & (df_modificado['churn'] == 'yes')]\n",
    "print('dimenssões:', df_maior_valor_churn.shape)\n",
    "df_maior_valor_churn.head(5)"
   ]
  },
  {
   "cell_type": "code",
   "execution_count": null,
   "metadata": {},
   "outputs": [],
   "source": [
    "# Verificar se precisa tratar outlier da variavel number_vmail_messages\n",
    "\n",
    "# Analisando variáveis que podem ser modificadas por sim/não\n",
    "print('valores de number_vmail_messages:', df_modificado['number_vmail_messages'].unique())\n",
    "print('valores de number_customer_service_calls:', df_modificado['number_customer_service_calls'].unique())\n",
    "df_modificado.sample(5)"
   ]
  },
  {
   "cell_type": "code",
   "execution_count": null,
   "metadata": {},
   "outputs": [],
   "source": [
    "# Está tecnica aplicada apresentou piora na performance do modelo \n",
    "# Modificando colunas de valores numericos para binários\n",
    "# df_modificado['number_vmail_messages'] = df_modificado['number_vmail_messages'].apply(validar_valores)\n",
    "# df_modificado['number_customer_service_calls'] = df_modificado['number_customer_service_calls'].apply(validar_valores)\n",
    "# df_modificado.sample(5)"
   ]
  },
  {
   "cell_type": "code",
   "execution_count": null,
   "metadata": {},
   "outputs": [],
   "source": [
    "# Analisando distribuição dos dados\n",
    "df_modificado.hist(bins=20, figsize=(10,10))\n",
    "plt.show()"
   ]
  },
  {
   "attachments": {},
   "cell_type": "markdown",
   "metadata": {},
   "source": [
    "### Tratamento dos dados"
   ]
  },
  {
   "cell_type": "code",
   "execution_count": null,
   "metadata": {},
   "outputs": [],
   "source": [
    "# Selecionando variáveis categóricas\n",
    "variaveis_categoricas = df_modificado.select_dtypes(include='object')"
   ]
  },
  {
   "cell_type": "code",
   "execution_count": null,
   "metadata": {},
   "outputs": [],
   "source": [
    "# Analisando valores únicos das variáveis categóricas\n",
    "for v in variaveis_categoricas:\n",
    "    print('valores únicos da variável', v, ':', list(df_modificado[v].unique()))\n",
    "\n",
    "print('\\ncolunas modificadas:', list(variaveis_categoricas.columns))"
   ]
  },
  {
   "cell_type": "code",
   "execution_count": null,
   "metadata": {},
   "outputs": [],
   "source": [
    "# Aplicando label-encoding nas variáveis categóricas\n",
    "df_modificado = aplica_label_encoding(df_modificado, variaveis_categoricas.columns)\n",
    "df_modificado.head(5)"
   ]
  },
  {
   "cell_type": "code",
   "execution_count": null,
   "metadata": {},
   "outputs": [],
   "source": [
    "# Analisando correlação das variáveis preditoras com a variável alvo\n",
    "\n",
    "# Separando as variáveis preditoras e alvo\n",
    "variavel_alvo = df_modificado['churn']\n",
    "variaveis_preditoras = df_modificado.drop('churn', axis=1)\n",
    "\n",
    "# Criando a matriz de correlação\n",
    "matriz_correlacao_alvo = variaveis_preditoras.corrwith(variavel_alvo).sort_values(ascending=False)\n",
    "matriz_correlacao_alvo = pd.DataFrame({'variavel': matriz_correlacao_alvo.index, 'correlacao': matriz_correlacao_alvo.values})\n",
    "\n",
    "print(matriz_correlacao_alvo)"
   ]
  },
  {
   "cell_type": "code",
   "execution_count": null,
   "metadata": {},
   "outputs": [],
   "source": [
    "# Analisando correlação das variáveis\n",
    "\n",
    "# Temos 2 possibilidade de remoção, definindo uma quantidade ou os numeros iniciais de cada correlação\n",
    "#colunas_baixa_correlacao = matriz_correlacao_alvo.iloc[(matriz_correlacao_alvo['correlacao'] - 0).abs().argsort()[:4]]\n",
    "colunas_baixa_correlacao = list(matriz_correlacao_alvo[matriz_correlacao_alvo[\"correlacao\"].astype(str).str.startswith(\"0.00\")]['variavel'])\n",
    "print('colunas com baixa correlação:', colunas_baixa_correlacao)"
   ]
  },
  {
   "cell_type": "code",
   "execution_count": null,
   "metadata": {},
   "outputs": [],
   "source": [
    "# Removendo variáveis com baixo nível correlação\n",
    "# Não é necessário remover\n",
    "#df = df_modificado.drop(colunas_baixa_correlacao, axis=1)\n",
    "df = df_modificado\n",
    "print('\\ndimensões:', df.shape)\n",
    "df.head(3)"
   ]
  },
  {
   "cell_type": "code",
   "execution_count": null,
   "metadata": {},
   "outputs": [],
   "source": [
    "# Aplicando análise de Variance inflation factor (VIF)\n",
    "# Selecionando variável alvo\n",
    "variaveis_preditoras = df.drop('churn', axis=1)\n",
    "\n",
    "# Criando constante\n",
    "X = sm.add_constant(variaveis_preditoras)\n",
    "\n",
    "# Criando modelo\n",
    "model = sm.OLS(df['churn'], X)\n",
    "\n",
    "# Treinando o modelo\n",
    "results = model.fit()\n",
    "\n",
    "# Calculando o VIF para cada variável\n",
    "vif = pd.DataFrame()\n",
    "vif[\"VIF Factor\"] = [variance_inflation_factor(X.values, i) for i in range(X.shape[1])]\n",
    "vif[\"features\"] = X.columns\n",
    "vif\n",
    "\n",
    "#  Selecionando variáveis com alto indice VIF\n",
    "colunas_alto_vif = vif[(vif[\"features\"] != \"const\") & (vif[\"VIF Factor\"] > 5)]\n",
    "colunas_alto_vif = colunas_alto_vif[\"features\"].values\n",
    "colunas_alto_vif\n",
    "\n",
    "# Removendo variáveis com alto indice VIF\n",
    "print('Após testes realizados, constatei que tivemos um aumento de mais de 3% de acurácia não removendo as variáveis.')\n",
    "#df = df.drop(colunas_alto_vif, axis=1)\n",
    "#print('dimensões:', df.shape)\n",
    "#df.head(3)"
   ]
  },
  {
   "cell_type": "code",
   "execution_count": null,
   "metadata": {},
   "outputs": [],
   "source": [
    "# Analisando a distribuição das classes\n",
    "plot_balanceamento_classes(df['churn'], 'Distribuição das classes no DataFrame original')"
   ]
  },
  {
   "cell_type": "code",
   "execution_count": null,
   "metadata": {},
   "outputs": [],
   "source": [
    "# Separando varáveis preditoras e alvo\n",
    "variavel_alvo = df.drop('churn', axis=1)\n",
    "variaveis_preditoras = df['churn']"
   ]
  },
  {
   "cell_type": "code",
   "execution_count": null,
   "metadata": {},
   "outputs": [],
   "source": [
    "# Aplicando balanceamento de classes\n",
    "x_balanceado, y_balanceado = aplicar_balanceamento_classes(variavel_alvo, variaveis_preditoras)"
   ]
  },
  {
   "cell_type": "code",
   "execution_count": null,
   "metadata": {},
   "outputs": [],
   "source": [
    "# Analisando a distribuição das classes após balanceamento\n",
    "plot_balanceamento_classes(y_balanceado, 'Distribuição das classes após a aplicação do SMOTE')"
   ]
  },
  {
   "cell_type": "code",
   "execution_count": null,
   "metadata": {},
   "outputs": [],
   "source": [
    "x_balanceado.sample(5)"
   ]
  },
  {
   "cell_type": "code",
   "execution_count": null,
   "metadata": {},
   "outputs": [],
   "source": [
    "# Selecionando variáveis numéricas\n",
    "lista_colunas_nao_numericas = ['international_plan', 'voice_mail_plan']\n",
    "\n",
    "colunas_numericas = x_balanceado.drop(lista_colunas_nao_numericas, axis=1)\n",
    "print('lista_colunas_numericas:', colunas_numericas.columns)\n",
    "\n",
    "# Criando o StandardScaler para aplicar nas variáveis\n",
    "scaler = StandardScaler()"
   ]
  },
  {
   "cell_type": "code",
   "execution_count": null,
   "metadata": {},
   "outputs": [],
   "source": [
    "# Analisando valores que serão normalizados.\n",
    "t = x_balanceado[colunas_numericas.columns].head(5)"
   ]
  },
  {
   "cell_type": "code",
   "execution_count": null,
   "metadata": {},
   "outputs": [],
   "source": [
    "# Aplicando padronização\n",
    "x_balanceado[colunas_numericas.columns] = scaler.fit_transform(colunas_numericas)"
   ]
  },
  {
   "cell_type": "code",
   "execution_count": null,
   "metadata": {},
   "outputs": [],
   "source": [
    "x_balanceado.head(5)"
   ]
  },
  {
   "cell_type": "code",
   "execution_count": null,
   "metadata": {},
   "outputs": [],
   "source": [
    "# Selecionando as melhores variáveis para o modelo\n",
    "melhores_variaveis = selecionar_melhores_variaveis(x_balanceado, y_balanceado, 11)\n",
    "\n",
    "# Exibindo as variáveis selecionadas\n",
    "print(\"Variáveis selecionadas:\", melhores_variaveis)"
   ]
  },
  {
   "cell_type": "code",
   "execution_count": null,
   "metadata": {},
   "outputs": [],
   "source": [
    "# Analisando dados atuais\n",
    "x_balanceado.sample(10)"
   ]
  },
  {
   "cell_type": "code",
   "execution_count": null,
   "metadata": {},
   "outputs": [],
   "source": [
    "# Analisando dados somente com as variáveis selecionadas\n",
    "x_balanceado = x_balanceado[melhores_variaveis]\n",
    "x_balanceado.head(5)"
   ]
  },
  {
   "attachments": {},
   "cell_type": "markdown",
   "metadata": {},
   "source": [
    "### Modelo de Regressão Logística"
   ]
  },
  {
   "cell_type": "code",
   "execution_count": null,
   "metadata": {},
   "outputs": [],
   "source": [
    "# Dividindo o conjunto de dados em treino e teste\n",
    "x_treino, x_teste, y_treino, y_teste = train_test_split(x_balanceado, y_balanceado, test_size=0.3, random_state=42)"
   ]
  },
  {
   "cell_type": "code",
   "execution_count": null,
   "metadata": {},
   "outputs": [],
   "source": [
    "# Criando o modelo\n",
    "model = LogisticRegression()"
   ]
  },
  {
   "cell_type": "code",
   "execution_count": null,
   "metadata": {},
   "outputs": [],
   "source": [
    "# Trinando o modelo\n",
    "model.fit(x_treino, y_treino)"
   ]
  },
  {
   "cell_type": "code",
   "execution_count": null,
   "metadata": {},
   "outputs": [],
   "source": [
    "# Fazendo previsões\n",
    "y_pred = model.predict(x_teste)"
   ]
  },
  {
   "cell_type": "code",
   "execution_count": null,
   "metadata": {},
   "outputs": [],
   "source": [
    "# Avaliando o modelo\n",
    "accuracy = accuracy_score(y_teste, y_pred)\n",
    "recall = recall_score(y_teste, y_pred)\n",
    "f1 = f1_score(y_teste, y_pred)\n",
    "auc_roc = roc_auc_score(y_teste, y_pred)"
   ]
  },
  {
   "cell_type": "code",
   "execution_count": null,
   "metadata": {},
   "outputs": [],
   "source": [
    "print(\"Acurácia: {:.2f}%\".format(accuracy * 100))\n",
    "print(\"Recall: {:.2f}%\".format(recall * 100))\n",
    "print(\"F1-score: {:.2f}%\".format(f1 * 100))\n",
    "print(\"AUC-ROC: {:.2f}%\".format(auc_roc * 100))"
   ]
  }
 ],
 "metadata": {
  "kernelspec": {
   "display_name": "Python 3",
   "language": "python",
   "name": "python3"
  },
  "language_info": {
   "codemirror_mode": {
    "name": "ipython",
    "version": 3
   },
   "file_extension": ".py",
   "mimetype": "text/x-python",
   "name": "python",
   "nbconvert_exporter": "python",
   "pygments_lexer": "ipython3",
   "version": "3.8.8"
  },
  "orig_nbformat": 4
 },
 "nbformat": 4,
 "nbformat_minor": 2
}
